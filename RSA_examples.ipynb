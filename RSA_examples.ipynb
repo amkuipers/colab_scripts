{
  "nbformat": 4,
  "nbformat_minor": 0,
  "metadata": {
    "colab": {
      "name": "RSA-examples.ipynb",
      "provenance": [],
      "collapsed_sections": [],
      "authorship_tag": "ABX9TyPB/GlsPCmZ1C7dmshGcMQE",
      "include_colab_link": true
    },
    "kernelspec": {
      "name": "python3",
      "display_name": "Python 3"
    },
    "language_info": {
      "name": "python"
    }
  },
  "cells": [
    {
      "cell_type": "markdown",
      "metadata": {
        "id": "view-in-github",
        "colab_type": "text"
      },
      "source": [
        "<a href=\"https://colab.research.google.com/github/amkuipers/colab_scripts/blob/main/RSA_examples.ipynb\" target=\"_parent\"><img src=\"https://colab.research.google.com/assets/colab-badge.svg\" alt=\"Open In Colab\"/></a>"
      ]
    },
    {
      "cell_type": "markdown",
      "source": [
        "RSA encryption / decryption\n",
        "\n",
        "Step by step example"
      ],
      "metadata": {
        "id": "8-mP_QzeMyFO"
      }
    },
    {
      "cell_type": "markdown",
      "source": [
        "# References\n",
        "- mainly used http://www.jtrive.com/simple-example-of-rsa-encryption-and-decryption.html\n",
        "- that refers to https://www.di-mgt.com.au/rsa_alg.html\n",
        "- python resources\n",
        "\n"
      ],
      "metadata": {
        "id": "5waiy0OhneM1"
      }
    },
    {
      "cell_type": "code",
      "source": [
        "import math"
      ],
      "metadata": {
        "id": "zArToL_IjEq-"
      },
      "execution_count": 65,
      "outputs": []
    },
    {
      "cell_type": "markdown",
      "source": [
        "# Step 1: Choose two random primes, and calculate modulus\n",
        "In example:\n",
        "- This example uses two small primes, as input for calculations, to demonstrate the algorithm. \n",
        "\n",
        "In reality:\n",
        "- The primes have the same bit size.\n",
        "- A proper set of primes have hundreds of digits. \n",
        "- So that n, the product of the two primes, that is in the public key, cannot be calculated back.\n",
        "- The primes should not public.\n",
        "- A proper random number generator is used to generated the two primes.\n",
        "\n",
        "\n",
        "Factor n is part of the public key, the primes are kept secret. N is also called modulus.\n",
        "\n",
        "\n",
        "\n"
      ],
      "metadata": {
        "id": "uZFKWwERjJF5"
      }
    },
    {
      "cell_type": "code",
      "source": [
        "p = 19  \n",
        "q = 29  \n",
        "\n",
        "n = p*q\n"
      ],
      "metadata": {
        "id": "U9zqJQQ9jpYe"
      },
      "execution_count": 66,
      "outputs": []
    },
    {
      "cell_type": "markdown",
      "source": [
        "In example:\n",
        "- Value n is not safe\n",
        "\n",
        "In reality:\n",
        "- The value of n is safe when it has > 512 bits\n",
        "\n",
        "Algorithm choice:\n",
        "- Algoritm 1 = `math.floor(math.log2(n)) + 1`\n",
        "- Algoritm 2 = `int.bit_length(n)`  "
      ],
      "metadata": {
        "id": "KE4974vdoIK1"
      }
    },
    {
      "cell_type": "code",
      "source": [
        "print(f'N = {n} that has key length of {int.bit_length(n)} bits')\n",
        "\n",
        "\n",
        "if int.bit_length(p) != int.bit_length(q):\n",
        "  print(f'WARN: The two primes do not have the same bit size')\n",
        "else:\n",
        "  print(f'INFO: The two primes have the same bit size')\n",
        "\n",
        "bits = int.bit_length(n)\n",
        "if bits < 512:\n",
        "  print(f'WARN: The value of n = {n} is not safe, since {bits} bits is less than 512 bits')\n",
        "else:\n",
        "  print(f'INFO: The value of n = {n} is safe, since {bits} bits is more than 512 bits')"
      ],
      "metadata": {
        "colab": {
          "base_uri": "https://localhost:8080/"
        },
        "id": "PIFV048gkD7a",
        "outputId": "8087698c-bca8-4310-ba46-0eebb5bc8736"
      },
      "execution_count": 69,
      "outputs": [
        {
          "output_type": "stream",
          "name": "stdout",
          "text": [
            "N = 551 that has key length of 10 bits\n",
            "INFO: The two primes have the same bit size\n",
            "WARN: The value of n = 551 is not safe, since 10 bits is less than 512 bits\n"
          ]
        }
      ]
    },
    {
      "cell_type": "markdown",
      "source": [
        "# Step 2: Calculate ϕ(n)\n",
        "\n",
        "ϕ(N) = phi(n) = (p-1)*(q-1)\n",
        "\n",
        "- This is called Euler's totient. \n",
        "And it is a calculation step.\n",
        "\n",
        "My notes:\n",
        "- ϕ is less than N\n",
        "- My assumption is that the (p-1) and the (q-1) are probably not primes, so can have multiple divisors. \n",
        "- This page shows ϕ as different symbol in the Code block as in the Text block, but it is the same."
      ],
      "metadata": {
        "id": "hy4jK9CFqRrJ"
      }
    },
    {
      "cell_type": "code",
      "source": [
        "phi = (p-1)*(q-1)\n"
      ],
      "metadata": {
        "id": "FpiAhQkKqSJS"
      },
      "execution_count": 70,
      "outputs": []
    },
    {
      "cell_type": "markdown",
      "source": [
        "Log"
      ],
      "metadata": {
        "id": "T6Vbvhg2Gb0K"
      }
    },
    {
      "cell_type": "code",
      "source": [
        "print(f\"ϕ(n) = {phi}\")"
      ],
      "metadata": {
        "colab": {
          "base_uri": "https://localhost:8080/"
        },
        "id": "pEiRWCriGcBa",
        "outputId": "ca79df93-2acb-4178-d013-58ca0468097f"
      },
      "execution_count": 71,
      "outputs": [
        {
          "output_type": "stream",
          "name": "stdout",
          "text": [
            "ϕ(n) = 504\n"
          ]
        }
      ]
    },
    {
      "cell_type": "markdown",
      "source": [
        "# Step 3: Choose e\n",
        "\n",
        "Choose `e` so `gcd(e,ϕ(n)) = 1`. \n",
        "- This means that `e` and `ϕ(n)` do not have common factors.\n",
        "- `gcd(a,b)` is great common divider; what is the largest whole value x that can be found, that is shared by a and by b. So `a/x` and `b/x` both result in whole integers.\n",
        "- the `gcd(e,ϕ(n))` must be `1`, so that it is proven that there are no common factors. \n",
        "\n",
        "Note:\n",
        "- In practice e is between 3 and 65537. \n",
        "- An e = 3 is weak?\n",
        "- Reason that 3, 7 and 65537 are often seen is that in binary it has only two '1' bits. And every '1' bit cost calculation time. A '0' bit does not, in an efficient calculation.\n",
        "So that even smartcards can also calculate RSA, when there are less bits a '1'."
      ],
      "metadata": {
        "id": "UEB_zUN_o_CW"
      }
    },
    {
      "cell_type": "code",
      "source": [
        "# examples with two '1' bits\n",
        "for i in range(1, 16+1):\n",
        "  b = 2**i + 1\n",
        "  print(f'Example: Bits of {b} are {bin(b)}')"
      ],
      "metadata": {
        "colab": {
          "base_uri": "https://localhost:8080/"
        },
        "id": "i944DvXkpslg",
        "outputId": "cdbe8858-211e-443e-a0ea-81b32436a418"
      },
      "execution_count": 72,
      "outputs": [
        {
          "output_type": "stream",
          "name": "stdout",
          "text": [
            "Example: Bits of 3 are 0b11\n",
            "Example: Bits of 5 are 0b101\n",
            "Example: Bits of 9 are 0b1001\n",
            "Example: Bits of 17 are 0b10001\n",
            "Example: Bits of 33 are 0b100001\n",
            "Example: Bits of 65 are 0b1000001\n",
            "Example: Bits of 129 are 0b10000001\n",
            "Example: Bits of 257 are 0b100000001\n",
            "Example: Bits of 513 are 0b1000000001\n",
            "Example: Bits of 1025 are 0b10000000001\n",
            "Example: Bits of 2049 are 0b100000000001\n",
            "Example: Bits of 4097 are 0b1000000000001\n",
            "Example: Bits of 8193 are 0b10000000000001\n",
            "Example: Bits of 16385 are 0b100000000000001\n",
            "Example: Bits of 32769 are 0b1000000000000001\n",
            "Example: Bits of 65537 are 0b10000000000000001\n"
          ]
        }
      ]
    },
    {
      "cell_type": "markdown",
      "source": [
        "So e:\n",
        "- Small exponent e.\n",
        "- Choose a value for e in the range of 1..phi(n)\n",
        "\n",
        "- Found this text, but I don't understand it yet: \"Is a relatively coprime with (p-1) and (q-1)\". And a Coprime = When two numbers have no common factors other than 1. So the value is not a real prime.\n",
        "- This means; find e that the greatest common divisor of phi and e is 1.\n",
        "\n",
        "Algorithm:\n",
        "- Loop e and \n",
        "- check gcd( phi, e) == 1 and\n",
        "- e has two '1' bits, \n",
        "- so that the resulting list of e candidates is smaller."
      ],
      "metadata": {
        "id": "s-sYLperrUHu"
      }
    },
    {
      "cell_type": "code",
      "source": [
        "print(f'For e, pick a value between {1} and {phi}')\n",
        "\n",
        "for e in range(phi-1, 1+1, -1):\n",
        "  gc = math.gcd( phi, e)\n",
        "  if gc == 1:\n",
        "    # found GCD \n",
        "    \n",
        "    ones_count = str(bin(e)).count('1')\n",
        "    if ones_count == 2:\n",
        "      # found two '1' bits in e\n",
        "      print(f'Found GCD for phi,e with e={e} and has two bits set to 1')\n",
        "\n",
        "      # 65 is also an answer, it is not a prime, should e be a prime?\n",
        "\n",
        "# manually selected\n",
        "e = 17\n",
        "print(f'Selected e = {e}')"
      ],
      "metadata": {
        "colab": {
          "base_uri": "https://localhost:8080/"
        },
        "id": "0Jh5wMZg05iU",
        "outputId": "0bb01b4c-3ff5-4363-9ee2-78de6ffaa9cc"
      },
      "execution_count": 74,
      "outputs": [
        {
          "output_type": "stream",
          "name": "stdout",
          "text": [
            "For e, pick a value between 1 and 504\n",
            "Found GCD for phi,e with e=257 and has two bits set to 1\n",
            "Found GCD for phi,e with e=65 and has two bits set to 1\n",
            "Found GCD for phi,e with e=17 and has two bits set to 1\n",
            "Found GCD for phi,e with e=5 and has two bits set to 1\n",
            "Selected e = 17\n"
          ]
        }
      ]
    },
    {
      "cell_type": "markdown",
      "source": [
        "# Step 4: Calculate d\n",
        "\n",
        "The `d` is part of the secret key.\n",
        "\n",
        "`d = e**−1 mod ϕ(N)`"
      ],
      "metadata": {
        "id": "hpSSIyhWNwJj"
      }
    },
    {
      "cell_type": "markdown",
      "source": [
        "The private key has secret exponent d.\n",
        "\n",
        "- Found text, but I need to look into this: ed == 1(mod phi). Where == is congruent?\n",
        "\n",
        "Note on algorithm:\n",
        "- found this code\n",
        "- would like to refactor and remove the itertools"
      ],
      "metadata": {
        "id": "TBJ6tlKCrvnC"
      }
    },
    {
      "cell_type": "code",
      "source": [
        "import itertools\n",
        "\n",
        "def get_d(e, phi):\n",
        "  for i in itertools.count(start=int(phi / e)):\n",
        "    v = ( e * i ) % phi\n",
        "    # print(f\"debug {i} and {v}\")\n",
        "    if v == 1:\n",
        "      break\n",
        "  return i  # d\n",
        "\n",
        "d = get_d(e, phi)\n",
        "print(f'Secret d is {d}')"
      ],
      "metadata": {
        "colab": {
          "base_uri": "https://localhost:8080/"
        },
        "id": "MEAByldPrWQh",
        "outputId": "8c9d2690-fcea-42f7-daf7-9cae55f9bbdd"
      },
      "execution_count": 75,
      "outputs": [
        {
          "output_type": "stream",
          "name": "stdout",
          "text": [
            "Secret d is 89\n"
          ]
        }
      ]
    },
    {
      "cell_type": "markdown",
      "source": [
        "# Step 5: Public and Private keys\n",
        "\n",
        "The Public Key is (n, e)\n",
        "\n",
        "The Private Key is (n, d)"
      ],
      "metadata": {
        "id": "zN2p_iTkrZrC"
      }
    },
    {
      "cell_type": "code",
      "source": [
        "pub = (n, e)\n",
        "prv = (n, d)\n",
        "\n",
        "print(f\"Public key {pub}\")\n",
        "print(f\"Private key {prv}\")\n"
      ],
      "metadata": {
        "colab": {
          "base_uri": "https://localhost:8080/"
        },
        "id": "tzjD8naGriUy",
        "outputId": "a59c407d-b372-4e94-a13f-f95a7c1b3073"
      },
      "execution_count": 77,
      "outputs": [
        {
          "output_type": "stream",
          "name": "stdout",
          "text": [
            "Public key (551, 17)\n",
            "Private key (551, 89)\n"
          ]
        }
      ]
    },
    {
      "cell_type": "markdown",
      "source": [
        "# Step 6: The message\n",
        "Original message is represented as integer array, with ASCII values of the characters.\n",
        "\n",
        "The message is \"HELP!\"."
      ],
      "metadata": {
        "id": "BinU-AP4tw90"
      }
    },
    {
      "cell_type": "code",
      "source": [
        "m = [ord(ch) for ch in \"HELP!\"]\n",
        "print(m)"
      ],
      "metadata": {
        "id": "GNZji8W7uCO6",
        "colab": {
          "base_uri": "https://localhost:8080/"
        },
        "outputId": "79b001c7-d142-4d3d-96bb-5e5d192521e0"
      },
      "execution_count": 78,
      "outputs": [
        {
          "output_type": "stream",
          "name": "stdout",
          "text": [
            "[72, 69, 76, 80, 33]\n"
          ]
        }
      ]
    },
    {
      "cell_type": "markdown",
      "source": [
        "# Step 7: Encrypt the message\n",
        "Encrypt the message with public key, using n, e.\n",
        "\n",
        "Resulting in ciphertext c.\n",
        "\n",
        "Note on the implementation:\n",
        "- Python `math.pow(m, e)` is floating point and does no modulo n.\n",
        "- Python inbuilt function `pow(m, e, n)` already does the modulo n.\n",
        "- Plain `m**e%n` is an integer calculation that is working but slow"
      ],
      "metadata": {
        "id": "Vp1nLLCLuFPs"
      }
    },
    {
      "cell_type": "code",
      "source": [
        "# c = [i**e % n for i in m]\n",
        "# print(f'Encrypted ciphertext {c}')\n",
        "\n",
        "c = [pow(i,e,n) for i in m]\n",
        "print(f'Encrypted ciphertext {c}')"
      ],
      "metadata": {
        "colab": {
          "base_uri": "https://localhost:8080/"
        },
        "id": "UvPW1B5Xtlx2",
        "outputId": "6aa0f10a-e7b7-4faf-c658-c3d0c8a680b2"
      },
      "execution_count": 79,
      "outputs": [
        {
          "output_type": "stream",
          "name": "stdout",
          "text": [
            "Encrypted ciphertext [185, 293, 171, 5, 528]\n"
          ]
        }
      ]
    },
    {
      "cell_type": "markdown",
      "source": [
        "## Notice values!\n",
        "The values from this are modulo N, so it means that these can be larger than 256. So it requires more bits/bytes to store."
      ],
      "metadata": {
        "id": "HxeebW9Hg_Hy"
      }
    },
    {
      "cell_type": "markdown",
      "source": [
        "# Step 8: Decrypt the message\n",
        "Decrypt the ciphertext c back to a message using the private key (n, d)."
      ],
      "metadata": {
        "id": "yeQCaZiBunjV"
      }
    },
    {
      "cell_type": "code",
      "source": [
        "# mm = [i**d % n for i in c]\n",
        "mm = [pow(i,d, n) for i in c]\n",
        "\n",
        "print(f'Decrypted {mm}')\n",
        "print(\"Decrypted message\", ''.join([chr(i) for i in mm]))"
      ],
      "metadata": {
        "colab": {
          "base_uri": "https://localhost:8080/"
        },
        "id": "6dQUgyKYuthu",
        "outputId": "66033589-c665-4656-f5cf-48127bd15edc"
      },
      "execution_count": 80,
      "outputs": [
        {
          "output_type": "stream",
          "name": "stdout",
          "text": [
            "Decrypted [72, 69, 76, 80, 33]\n",
            "Decrypted message HELP!\n"
          ]
        }
      ]
    },
    {
      "cell_type": "markdown",
      "source": [
        "# Step 9: Crack the public key\n",
        "\n",
        "Now attempt to 'crack' the public key; finding the primes; Factoring the primes. From these primes the private key can be calculated. So that messages can be encrypted and decrypted.\n",
        "\n",
        "Notes:\n",
        "- This is for small values of n only. \n",
        "\n",
        "Steps:\n",
        "- We know that n is the product of two primes\n",
        "- We know that 1 of the primes is less than the square root\n",
        "- We know that there are no other values involved than the two primes\n",
        "- Iterate from 3 in steps of 2 to avoid the even value calculations, since these are not primes anyway. But it still iterates through multiples of other primes.\n",
        "- If a division results in a remainder of 0, then we found both primes\n",
        "\n",
        "Improvement steps:\n",
        "- Iterate from sqrt(n) down instead of from 3 up"
      ],
      "metadata": {
        "id": "5JjPO_MWirOJ"
      }
    },
    {
      "cell_type": "code",
      "source": [
        "def crack_n(n):\n",
        "  # find the two primes, so that p2*q2 = n\n",
        "  sq = int(math.sqrt(n))\n",
        "  #print(f'Looking for primes, with p up to sqrt(n): sqrt({n}) = {sq}')\n",
        "  for p2 in range(3, sq+1, 2):\n",
        "    if n % p2 == 0:\n",
        "      return p2, n//p2 # returns p, q\n",
        "\n",
        "#primes = crack_n(n)     \n",
        "#print(f\"Primes: {primes}\")\n",
        "\n",
        "def crack_pub(pub):\n",
        "  n2, e2 = pub\n",
        "  p2, q2 = crack_n(n)\n",
        "  phi2 = (p2-1)*(q2-1)\n",
        "  d2 = get_d(e2, phi2)\n",
        "  return n2, d2 # returns private key (n, d)\n",
        "\n",
        "print(f'Public key {pub} cracked to private key {crack_pub(pub)}')"
      ],
      "metadata": {
        "colab": {
          "base_uri": "https://localhost:8080/"
        },
        "id": "d1zWS569ip_B",
        "outputId": "cec7fcf6-5691-4884-9f47-b5f7acff6595"
      },
      "execution_count": 81,
      "outputs": [
        {
          "output_type": "stream",
          "name": "stdout",
          "text": [
            "Public key (551, 17) cracked to private key (551, 89)\n"
          ]
        }
      ]
    },
    {
      "cell_type": "markdown",
      "source": [
        "# Appendix\n",
        "Code and comments moved out of the calculaton steps above. Kept before deletion or before improvement to move back into the calculation steps.\n",
        "\n",
        "## Alternative d calculation\n",
        "Alternative d calculation;\n",
        "\n",
        "- Euclidean algoritm = gcd() = greatest common divider\n",
        "- Extended Euclidean algoritm = coefficients for Bezouts identity; one is d\n",
        "\n",
        "https://en.wikipedia.org/wiki/Extended_Euclidean_algorithm\n",
        "\n",
        "Euclidean algorithm = modular inverse of e(mod n)"
      ],
      "metadata": {
        "id": "Zuep7dL7NnIR"
      }
    },
    {
      "cell_type": "code",
      "execution_count": 82,
      "metadata": {
        "colab": {
          "base_uri": "https://localhost:8080/"
        },
        "id": "vRqUhNKpMjAI",
        "outputId": "08bff6b5-e2fb-4b17-8b4c-958875908d66"
      },
      "outputs": [
        {
          "output_type": "stream",
          "name": "stdout",
          "text": [
            "inverse(17,504)\n",
            "d2 = 89\n"
          ]
        }
      ],
      "source": [
        "# incorrect, provide phi for parameter n\n",
        "# so this must be looked into\n",
        "# because for phi you already need to know the p,q factors of n\n",
        "\n",
        "def inverse(a, n):\n",
        "  \"\"\" Euclidean algorithm \"\"\"\n",
        "  print(f\"inverse({a},{n})\")\n",
        "  t, newt = 0, 1\n",
        "  r, newr = n, a\n",
        "\n",
        "  while newr:\n",
        "    quotient = r // newr  # floor division\n",
        "    t, newt = newt, t - quotient * newt\n",
        "    r, newr = newr, r - quotient * newr\n",
        "    \n",
        "  if r > 1:\n",
        "    return None  # there's no solution\n",
        "    \n",
        "  if t < 0:\n",
        "    t = t + n\n",
        "    \n",
        "  return t\n",
        "\n",
        "# this is the same input and output as in the original d calculation\n",
        "d2 = inverse(e, phi )\n",
        "print(f\"d2 = {d2}\")\n",
        "\n",
        "\n"
      ]
    },
    {
      "cell_type": "markdown",
      "source": [
        "## Appendix: Interactive\n",
        "\n",
        "Requires e,n and d to be set.\n",
        "\n",
        "Note:\n",
        "- because in the example n is small, every m character in the input is encrypted. \n",
        "- Every m character is encrypted with the same result. And this is a problem.\n",
        "- In reality n is 1024 bits minimum. So 128 bytes. There are rules for the size of the message and the size of n, but not yet here. I assume that from m, a block of bits is taken to be encrypted, where the block size is the number of bits of n. When the remaining message bits is less then the number of bits in n, then m is padded with certain padding algorithms.\n",
        "\n",
        "Example:\n",
        "- When typing `Helloooooo` the `o` is also repeating in the encrypted message. That is not good, since text frequency analysis can be used on long enough messages."
      ],
      "metadata": {
        "id": "WfbvI26V0tqS"
      }
    },
    {
      "cell_type": "code",
      "source": [
        "message = input(\"Enter the text message to be encrypted: \")\n",
        "m = [ord(ch) for ch in message]\n",
        "\n",
        "# encryption using public key n,e\n",
        "c = [pow(i, e, n) for i in m]\n",
        "print(\"Ciphertext is:\", c)\n",
        "\n",
        "# decryption using private key n,d\n",
        "mm = [pow(i, d, n) for i in c]\n",
        "print(f'Decrypted: {mm}')\n",
        "print(\"Decrypted message:\", ''.join([chr(i) for i in mm]))\n",
        "\n"
      ],
      "metadata": {
        "colab": {
          "base_uri": "https://localhost:8080/"
        },
        "id": "DWMq0VzMhFul",
        "outputId": "84045914-a1aa-401e-c9e1-d06f566dc33e"
      },
      "execution_count": 87,
      "outputs": [
        {
          "output_type": "stream",
          "name": "stdout",
          "text": [
            "Enter the text message to be encrypted: Hellooooo\n",
            "Ciphertext is: [185, 301, 193, 193, 310, 310, 310, 310, 310]\n",
            "Decrypted: [72, 101, 108, 108, 111, 111, 111, 111, 111]\n",
            "Decrypted message: Hellooooo\n"
          ]
        }
      ]
    }
  ]
}